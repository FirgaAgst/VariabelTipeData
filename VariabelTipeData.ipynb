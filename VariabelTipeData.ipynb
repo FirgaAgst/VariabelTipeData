{
 "cells": [
  {
   "cell_type": "markdown",
   "id": "e9d3bc77",
   "metadata": {},
   "source": [
    "<h1>Variabel dan Tipe Data Python</h1><hr>\n",
    "<font color=\"green\">Beberapa</font> aturan pembuataan variabel di <b>python</b>:\n",
    "\n",
    "<ol>\n",
    "    <li>Bersifat case sensitif => A != a</li>\n",
    "    <li>harus diawali dengan huruf atau karakter _(underscore)</li>\n",
    "    <li>Tidak boleh menggunakan spasi</li>\n",
    "    <li>Boleh menggunakan angka</li>\n",
    "    \n",
    "</ol>\n"
   ]
  },
  {
   "cell_type": "code",
   "execution_count": 15,
   "id": "1ab6be5d",
   "metadata": {},
   "outputs": [
    {
     "name": "stdout",
     "output_type": "stream",
     "text": [
      "10\n",
      "100.9\n",
      "1\n",
      "True\n"
     ]
    }
   ],
   "source": [
    "data_int = 10\n",
    "data_float = 100.9\n",
    "data_string = '1'\n",
    "data_bool = True\n",
    "\n",
    "print(data_int)\n",
    "print(data_float)\n",
    "print(data_string)\n",
    "print(data_bool)"
   ]
  },
  {
   "cell_type": "markdown",
   "id": "11c9e892",
   "metadata": {},
   "source": [
    "Untuk mengatahui tipe data dari sebuah variabel gunakan command <b>type</b>"
   ]
  },
  {
   "cell_type": "code",
   "execution_count": 16,
   "id": "455d64da",
   "metadata": {},
   "outputs": [
    {
     "name": "stdout",
     "output_type": "stream",
     "text": [
      "<class 'int'>\n",
      "<class 'float'>\n",
      "<class 'str'>\n",
      "<class 'bool'>\n"
     ]
    }
   ],
   "source": [
    "print(type(data_int))\n",
    "print(type(data_float))\n",
    "print(type(data_string))\n",
    "print(type(data_bool))"
   ]
  },
  {
   "cell_type": "markdown",
   "id": "d2d88510",
   "metadata": {},
   "source": [
    "Pada python terdapat proses <b>CASTING</b> yaitu konversi dari sebuah tipe data ke tipe data yang lain yaitu dengan sintaks <b>tipe_data(nama_variabel)</b>"
   ]
  },
  {
   "cell_type": "code",
   "execution_count": 18,
   "id": "059de775",
   "metadata": {},
   "outputs": [
    {
     "name": "stdout",
     "output_type": "stream",
     "text": [
      "Nilai variabel data_int= 10\n",
      "10.0\n",
      "10\n",
      "True\n"
     ]
    }
   ],
   "source": [
    "int_to_float = float(data_int)\n",
    "int_to_string = str(data_int)\n",
    "int_to_bool = bool(data_int)\n",
    "\n",
    "print(\"Nilai variabel data_int=\",data_int)\n",
    "print(int_to_float)\n",
    "print(int_to_string)\n",
    "print(int_to_bool) "
   ]
  },
  {
   "cell_type": "code",
   "execution_count": 20,
   "id": "2bdcfbd6",
   "metadata": {},
   "outputs": [
    {
     "name": "stdout",
     "output_type": "stream",
     "text": [
      "Nilai variabel data_float= 100.9\n",
      "100\n",
      "100.9\n",
      "True\n"
     ]
    }
   ],
   "source": [
    "float_to_int = int(data_float)\n",
    "float_to_string = str(data_float)\n",
    "float_to_bool = bool(data_float)\n",
    "\n",
    "print(\"Nilai variabel data_float=\",data_float)\n",
    "print(float_to_int)\n",
    "print(float_to_string)\n",
    "print(float_to_bool) "
   ]
  },
  {
   "cell_type": "code",
   "execution_count": 21,
   "id": "2006784a",
   "metadata": {},
   "outputs": [
    {
     "name": "stdout",
     "output_type": "stream",
     "text": [
      "Nilai variabel data_string= 1\n",
      "1\n",
      "1\n",
      "True\n"
     ]
    }
   ],
   "source": [
    "string_to_int = int(data_string)\n",
    "string_to_float = str(data_string)\n",
    "string_to_bool = bool(data_string)\n",
    "\n",
    "print(\"Nilai variabel data_string=\",data_string)\n",
    "print(string_to_int)\n",
    "print(string_to_float)\n",
    "print(string_to_bool) "
   ]
  },
  {
   "cell_type": "code",
   "execution_count": 30,
   "id": "94252d17",
   "metadata": {},
   "outputs": [
    {
     "name": "stdout",
     "output_type": "stream",
     "text": [
      "masukan bilangan 1 : 2147483649\n",
      "masukan bilangan 2 : 100000000000\n",
      "Hasil perjumlahan : 102147483649\n",
      "Hasil pengurangan : -97852516351\n",
      "Hasil pembagian : 0.02147483649\n",
      "Hasil perkalian : 214748364900000000000\n"
     ]
    }
   ],
   "source": [
    "bil1 = int(input(\"masukan bilangan 1 : \"))\n",
    "bil2 = int(input(\"masukan bilangan 2 : \"))\n",
    "hasil_perjumlahan = bil1 + bil2\n",
    "hasil_pengurangan = bil1 - bil2\n",
    "hasil_pembagian = bil1 / bil2\n",
    "hasil_perkalian = bil1 * bil2\n",
    "print(\"Hasil perjumlahan :\" ,hasil_perjumlahan)\n",
    "print(\"Hasil pengurangan :\" ,hasil_pengurangan)\n",
    "print(\"Hasil pembagian :\" ,hasil_pembagian)\n",
    "print(\"Hasil perkalian :\" ,hasil_perkalian)"
   ]
  },
  {
   "cell_type": "code",
   "execution_count": null,
   "id": "bf38e878",
   "metadata": {},
   "outputs": [],
   "source": []
  }
 ],
 "metadata": {
  "kernelspec": {
   "display_name": "Python 3 (ipykernel)",
   "language": "python",
   "name": "python3"
  },
  "language_info": {
   "codemirror_mode": {
    "name": "ipython",
    "version": 3
   },
   "file_extension": ".py",
   "mimetype": "text/x-python",
   "name": "python",
   "nbconvert_exporter": "python",
   "pygments_lexer": "ipython3",
   "version": "3.9.12"
  }
 },
 "nbformat": 4,
 "nbformat_minor": 5
}
